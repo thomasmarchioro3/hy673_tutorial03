{
 "cells": [
  {
   "cell_type": "code",
   "execution_count": null,
   "metadata": {},
   "outputs": [],
   "source": [
    "import numpy as np\n",
    "import matplotlib.pyplot as plt"
   ]
  },
  {
   "cell_type": "code",
   "execution_count": null,
   "metadata": {},
   "outputs": [],
   "source": [
    "np.random.seed(42)"
   ]
  },
  {
   "cell_type": "code",
   "execution_count": null,
   "metadata": {},
   "outputs": [],
   "source": [
    "priors_old = [0.5, 0.5]\n",
    "means_old = [-1, +1]\n",
    "stddevs_old = [1, 1]\n",
    "\n",
    "x = [-5, -3, -1, 2.5, 3.5]"
   ]
  },
  {
   "cell_type": "code",
   "execution_count": null,
   "metadata": {},
   "outputs": [],
   "source": [
    "# cast lists as Numpy arrays\n",
    "priors_old = np.asarray(priors_old)\n",
    "means_old = np.asarray(means_old)\n",
    "stddevs_old = np.asarray(stddevs_old)\n",
    "x = np.asarray(x)"
   ]
  },
  {
   "attachments": {},
   "cell_type": "markdown",
   "metadata": {},
   "source": [
    "## 1) E step: Responsibilities\n",
    "\n",
    "\\begin{equation*}\n",
    "\\gamma_{nk} = \\dfrac{ \\pi_{k} \\frac{1}{\\sqrt{2\\pi} \\sigma_{k}} \\exp \\left(  - \\frac{(x_n - \\mu_k)^2}{2\\sigma_{k}^2}  \\right)}{\\sum_{j=1}^{2} \\pi_{j} \\frac{1}{\\sqrt{2\\pi} \\sigma_{j}} \\exp \\left(  - \\frac{(x_n - \\mu_j)^2}{2\\sigma_{j}^2}  \\right)} \n",
    "\\end{equation*}\n",
    "\n",
    "This expression may look ominous, but essentially we just need to compute the PDF values for each Gaussian\n",
    "\\begin{equation*}\n",
    " \\pi_{k} \\frac{1}{\\sqrt{2\\pi} \\sigma_{k}} \\exp \\left(  - \\frac{(x_n - \\mu_k)^2}{2\\sigma_{k}^2}  \\right)\n",
    "\\end{equation*}\n",
    "\n",
    "and normalize them w.r.t. their sum.\n"
   ]
  },
  {
   "cell_type": "code",
   "execution_count": null,
   "metadata": {},
   "outputs": [],
   "source": [
    "# kids do this:\n",
    "def compute_gaussian_pdfs(x, means, stddevs):\n",
    "\n",
    "    n_gaussians = len(means)\n",
    "    n_observations = len(x)\n",
    "\n",
    "    densities = np.zeros((n_observations, n_gaussians))\n",
    "\n",
    "    for i, (mu, sigma) in enumerate(zip(means, stddevs)):\n",
    "        coeff = 1/(np.sqrt(2 * np.pi) * sigma)\n",
    "        diffs = x - mu\n",
    "        expargs = (diffs**2) / (2 * sigma**2)\n",
    "        densities[:, i] = coeff*np.exp(-expargs)\n",
    "    return densities"
   ]
  },
  {
   "cell_type": "code",
   "execution_count": null,
   "metadata": {},
   "outputs": [],
   "source": [
    "densities = compute_gaussian_pdfs(x, means_old, stddevs_old)\n",
    "print(densities)"
   ]
  },
  {
   "cell_type": "code",
   "execution_count": null,
   "metadata": {},
   "outputs": [],
   "source": [
    "# data scientists do this:\n",
    "def compute_gaussian_pdfs(x, means, stddevs):\n",
    "    coeff = 1/(np.sqrt(2 * np.pi) * stddevs)\n",
    "    diffs = x[:, None] - means[None, :]\n",
    "    expargs = -(diffs**2) / (2 * stddevs**2)[None, :]  # argument of the exponent\n",
    "    densities = coeff[None, :]*np.exp(expargs)\n",
    "    return densities"
   ]
  },
  {
   "cell_type": "code",
   "execution_count": null,
   "metadata": {},
   "outputs": [],
   "source": [
    "densities = compute_gaussian_pdfs(x, means_old, stddevs_old)\n",
    "print(densities)"
   ]
  },
  {
   "cell_type": "code",
   "execution_count": null,
   "metadata": {},
   "outputs": [],
   "source": [
    "# legends to this:\n",
    "def compute_gaussian_pdfs(x, means, stddevs):\n",
    "    return np.exp(-(x[:, None] - means[None, :])**2/(2 * stddevs**2)[None, :]) /(np.sqrt(2 * np.pi) * stddevs)[None, :]\n",
    "\n",
    "densities = compute_gaussian_pdfs(x, means_old, stddevs_old)\n",
    "print(densities)"
   ]
  },
  {
   "cell_type": "code",
   "execution_count": null,
   "metadata": {},
   "outputs": [],
   "source": [
    "print(densities.shape)"
   ]
  },
  {
   "cell_type": "code",
   "execution_count": null,
   "metadata": {},
   "outputs": [],
   "source": [
    "# kids do this:\n",
    "responsibilities = np.zeros_like(densities)\n",
    "\n",
    "for i, rho in enumerate(densities):\n",
    "    score = priors_old*rho\n",
    "    responsibilities[i] = score/sum(score)\n",
    "\n",
    "print(responsibilities)"
   ]
  },
  {
   "cell_type": "code",
   "execution_count": null,
   "metadata": {},
   "outputs": [],
   "source": [
    "# real data scientists do this:\n",
    "scores = priors_old[None, :]*densities\n",
    "responsibilities = scores/scores.sum(axis=1)[:, None]\n",
    "print(responsibilities)"
   ]
  },
  {
   "attachments": {},
   "cell_type": "markdown",
   "metadata": {},
   "source": [
    "## 2) M step: Parameters update\n",
    "\n",
    "\\begin{align*}\n",
    "    \\pi_{k}^{\\text{new}} &= \\frac{N_k}{N} \\\\\n",
    "    \\mu_{k}^{\\text{new}} &= \\frac{1}{N_k} \\sum_{n=1}^{N} \\gamma_{nk} x_{n} \\\\\n",
    "    \\sigma_{k}^{\\text{new}} &= \\sqrt{ \\frac{1}{N_k} \\sum_{n=1}^{N} \\gamma_{nk} (x_n - \\mu_{k}^{\\text{new}})^2 }\n",
    "\\end{align*}\n",
    "\n",
    "with\n",
    "\n",
    "\\begin{equation*}\n",
    "N_k=\\sum_{n=1}^{N} \\gamma_{nk}\n",
    "\\end{equation*}"
   ]
  },
  {
   "cell_type": "code",
   "execution_count": null,
   "metadata": {},
   "outputs": [],
   "source": [
    "Nks = responsibilities.sum(axis=0)\n",
    "\n",
    "means_new = (responsibilities * x[:, None]).sum(axis=0) / Nks\n",
    "stddevs_new = np.sqrt((responsibilities * (x[:, None] - means_new[None, :])**2 ).sum(axis=0) / Nks)\n",
    "priors_new = Nks/Nks.sum()"
   ]
  },
  {
   "cell_type": "code",
   "execution_count": null,
   "metadata": {},
   "outputs": [],
   "source": [
    "print(\"Updated means:\")\n",
    "print(means_new)\n",
    "\n",
    "print(\"Updated standard deviations:\")\n",
    "print(stddevs_new)\n",
    "\n",
    "print(\"Updated priors:\")\n",
    "print(priors_new)"
   ]
  },
  {
   "attachments": {},
   "cell_type": "markdown",
   "metadata": {},
   "source": [
    "## 3) Log-likelihood before and after the parameter update"
   ]
  },
  {
   "attachments": {},
   "cell_type": "markdown",
   "metadata": {},
   "source": [
    "The overall log-likelihood of a sample $x_1, \\dots, x_N$ is simply computed as \n",
    "\n",
    "\\begin{equation*}\n",
    "\\ell(\\theta; x) = \\sum_{n=1}^{N} \\log p_{\\theta}(x_{n})\n",
    "\\end{equation*}"
   ]
  },
  {
   "cell_type": "code",
   "execution_count": null,
   "metadata": {},
   "outputs": [],
   "source": [
    "def compute_gmm_pdf(x, priors, means, stddevs):\n",
    "    gaussian_densities = compute_gaussian_pdfs(x, means, stddevs)\n",
    "    gmm_densities = (priors[None, :] * gaussian_densities).sum(axis=1)\n",
    "    return gmm_densities"
   ]
  },
  {
   "cell_type": "code",
   "execution_count": null,
   "metadata": {},
   "outputs": [],
   "source": [
    "likelihood_old = compute_gmm_pdf(x, priors_old, means_old, stddevs_old).sum()\n",
    "likelihood_new = compute_gmm_pdf(x, priors_new, means_new, stddevs_new).sum()\n",
    "print(\"Old log-likelihood:\", np.log(likelihood_old))\n",
    "print(\"New log-likelihood:\", np.log(likelihood_new))"
   ]
  },
  {
   "cell_type": "code",
   "execution_count": null,
   "metadata": {},
   "outputs": [],
   "source": [
    "xrange = np.arange(-8, 8, 0.1)\n",
    "old_likelihoods = compute_gaussian_pdfs(xrange, means_old, stddevs_old)\n",
    "old_gmm_likelihoods = compute_gmm_pdf(xrange, priors_old, means_old, stddevs_old)\n",
    "\n",
    "plt.figure()\n",
    "for i, likelihood in enumerate(old_likelihoods.T):\n",
    "    plt.plot(xrange, likelihood, label=f'mode {i} of GMM (old)')\n",
    "plt.plot(xrange, old_gmm_likelihoods, '--', color='gray', label='Overall GMM (old)')\n",
    "plt.plot(x, np.zeros_like(x), 'x', color='black', label='samples')\n",
    "plt.xlim([-8, 8])\n",
    "plt.legend()\n",
    "plt.grid(linestyle=':')\n",
    "plt.draw()    "
   ]
  },
  {
   "cell_type": "code",
   "execution_count": null,
   "metadata": {},
   "outputs": [],
   "source": [
    "xrange = np.arange(-8, 8, 0.1)\n",
    "new_likelihoods = compute_gaussian_pdfs(xrange, means_new, stddevs_new)\n",
    "new_gmm_likelihoods = compute_gmm_pdf(xrange, priors_new, means_new, stddevs_new)\n",
    "plt.figure()\n",
    "for i, likelihood in enumerate(new_likelihoods.T):\n",
    "    plt.plot(xrange, likelihood, label=f'mode {i} of GMM (new)')\n",
    "plt.plot(xrange, new_gmm_likelihoods, '-', color='gray', label='Overall GMM (new)')\n",
    "plt.plot(x, np.zeros_like(x), 'x', color='black', label='samples')\n",
    "plt.xlim([-8, 8])\n",
    "plt.legend()\n",
    "plt.grid(linestyle=':')\n",
    "plt.draw()"
   ]
  },
  {
   "attachments": {},
   "cell_type": "markdown",
   "metadata": {},
   "source": [
    "## 4) Sampling from GMM"
   ]
  },
  {
   "cell_type": "code",
   "execution_count": null,
   "metadata": {},
   "outputs": [],
   "source": [
    "# kids do this:\n",
    "def sample_gmm(priors, means, stddevs, n):\n",
    "    n_gaussians = len(priors)\n",
    "\n",
    "    indices_gaussians = np.arange(n_gaussians)  # [0, ..., n_gaussians-1]\n",
    "    random_indices = np.random.choice(indices_gaussians, size=n, p=priors)  # choose the gaussian indices according to the priors\n",
    "\n",
    "    z_sample = np.random.randn(n)  # sample n random i.i.d z[i]~N(0,1)\n",
    "    gmm_sample = np.zeros_like(z_sample)\n",
    "    for i, idx in enumerate(random_indices):\n",
    "        mu = means[idx]\n",
    "        sigma = stddevs[idx]\n",
    "        gmm_sample[i] = sigma*z_sample + mu\n",
    "    return gmm_sample"
   ]
  },
  {
   "cell_type": "code",
   "execution_count": null,
   "metadata": {},
   "outputs": [],
   "source": [
    "# data scientists do this:\n",
    "def sample_gmm(priors, means, stddevs, n):\n",
    "    idx_modes = np.random.choice(np.arange(len(priors)), size=n, p=priors)  # choose the gaussian indices according to the priors\n",
    "    z_sample = np.random.randn(n)  # sample n random i.i.d z[i]~N(0,1)\n",
    "    return stddevs[idx_modes]*z_sample + means[idx_modes]\n"
   ]
  },
  {
   "cell_type": "code",
   "execution_count": null,
   "metadata": {},
   "outputs": [],
   "source": [
    "x_sample = sample_gmm(priors_new, means_new, stddevs_new, n=1000)\n",
    "\n",
    "plt.figure()\n",
    "plt.hist(x_sample, bins=20, range=(-8, 8), density=True, color='C0', label='Sampled points')\n",
    "plt.plot(xrange, new_gmm_likelihoods, '-', color='black', label='Overall GMM (new)')\n",
    "plt.legend()\n",
    "plt.grid(linestyle=':')\n",
    "plt.xlim([-8, 8])\n",
    "plt.draw()"
   ]
  }
 ],
 "metadata": {
  "kernelspec": {
   "display_name": "hy673",
   "language": "python",
   "name": "python3"
  },
  "language_info": {
   "codemirror_mode": {
    "name": "ipython",
    "version": 3
   },
   "file_extension": ".py",
   "mimetype": "text/x-python",
   "name": "python",
   "nbconvert_exporter": "python",
   "pygments_lexer": "ipython3",
   "version": "3.10.9"
  },
  "orig_nbformat": 4,
  "vscode": {
   "interpreter": {
    "hash": "898d28840f55b3c5c9a615fda231169adc20c90e3e87a937f55caa36837c15d9"
   }
  }
 },
 "nbformat": 4,
 "nbformat_minor": 2
}
